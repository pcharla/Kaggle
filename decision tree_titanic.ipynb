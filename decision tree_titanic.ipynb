{
 "cells": [
  {
   "cell_type": "code",
   "execution_count": 1,
   "metadata": {},
   "outputs": [],
   "source": [
    "feature_names= ['Pclass','Age','Sex','SibSp','Parch', 'Fare', 'Embarked']\n"
   ]
  },
  {
   "cell_type": "code",
   "execution_count": 2,
   "metadata": {},
   "outputs": [],
   "source": [
    "import pandas as pd\n",
    "from sklearn import tree, model_selection\n",
    "train= pd.read_csv('C:\\\\Users\\\\pooja\\\\Desktop\\\\Kaggle\\\\Titanic\\\\train.csv')"
   ]
  },
  {
   "cell_type": "code",
   "execution_count": 7,
   "metadata": {},
   "outputs": [],
   "source": [
    "train['Age'].fillna(train['Age'].mean(), inplace= True)\n",
    "train['Embarked']= train['Embarked'].fillna('S')\n",
    "train.loc[train['Embarked']=='S','Embarked']= 0\n",
    "train.loc[train['Embarked']=='C','Embarked']= 1\n",
    "train.loc[train['Embarked']== 'Q','Embarked']= 2"
   ]
  },
  {
   "cell_type": "code",
   "execution_count": 3,
   "metadata": {},
   "outputs": [],
   "source": [
    "train.loc[train['Sex']== 'male','Sex']=0\n",
    "train.loc[train['Sex']=='female','Sex'] =1\n",
    "target= train['Survived'].values"
   ]
  },
  {
   "cell_type": "code",
   "execution_count": 9,
   "metadata": {},
   "outputs": [],
   "source": [
    "features= train[feature_names].values"
   ]
  },
  {
   "cell_type": "code",
   "execution_count": 10,
   "metadata": {},
   "outputs": [],
   "source": [
    "decision_tree=  tree.DecisionTreeClassifier(random_state=1, max_depth= 7, min_samples_split= 2)\n",
    "#generalized tree"
   ]
  },
  {
   "cell_type": "code",
   "execution_count": 11,
   "metadata": {},
   "outputs": [],
   "source": [
    "decision_tree_= decision_tree.fit(features, target)"
   ]
  },
  {
   "cell_type": "code",
   "execution_count": 12,
   "metadata": {},
   "outputs": [
    {
     "name": "stdout",
     "output_type": "stream",
     "text": [
      "0.8787878787878788\n"
     ]
    }
   ],
   "source": [
    "print (decision_tree_.score(features, target))"
   ]
  },
  {
   "cell_type": "code",
   "execution_count": 13,
   "metadata": {},
   "outputs": [],
   "source": [
    "scores= model_selection.cross_val_score(decision_tree, features, target, scoring= 'accuracy', cv= 50)"
   ]
  },
  {
   "cell_type": "code",
   "execution_count": 14,
   "metadata": {},
   "outputs": [
    {
     "name": "stdout",
     "output_type": "stream",
     "text": [
      "[0.77777778 0.66666667 0.77777778 0.94444444 0.83333333 0.88888889\n",
      " 0.61111111 0.83333333 0.88888889 0.88888889 0.72222222 0.66666667\n",
      " 0.83333333 0.77777778 0.72222222 0.83333333 0.94444444 0.72222222\n",
      " 0.94444444 0.83333333 0.88888889 0.83333333 0.83333333 0.88888889\n",
      " 0.88888889 0.83333333 0.83333333 0.83333333 0.77777778 0.88888889\n",
      " 0.72222222 0.66666667 0.88888889 0.88888889 0.83333333 0.77777778\n",
      " 0.72222222 0.66666667 0.88888889 0.77777778 0.83333333 0.88888889\n",
      " 0.88235294 0.94117647 0.82352941 0.70588235 0.88235294 0.88235294\n",
      " 1.         0.9375    ]\n"
     ]
    }
   ],
   "source": [
    "print (scores)"
   ]
  },
  {
   "cell_type": "code",
   "execution_count": 15,
   "metadata": {},
   "outputs": [
    {
     "name": "stdout",
     "output_type": "stream",
     "text": [
      "0.8244362745098038\n"
     ]
    }
   ],
   "source": [
    "print (scores.mean())"
   ]
  },
  {
   "cell_type": "code",
   "execution_count": 16,
   "metadata": {},
   "outputs": [],
   "source": [
    "tree.export_graphviz(decision_tree_, feature_names= feature_names, out_file= 'tree.dot')"
   ]
  },
  {
   "cell_type": "code",
   "execution_count": null,
   "metadata": {},
   "outputs": [],
   "source": []
  },
  {
   "cell_type": "code",
   "execution_count": null,
   "metadata": {},
   "outputs": [],
   "source": []
  }
 ],
 "metadata": {
  "kernelspec": {
   "display_name": "Python 3",
   "language": "python",
   "name": "python3"
  },
  "language_info": {
   "codemirror_mode": {
    "name": "ipython",
    "version": 3
   },
   "file_extension": ".py",
   "mimetype": "text/x-python",
   "name": "python",
   "nbconvert_exporter": "python",
   "pygments_lexer": "ipython3",
   "version": "3.6.3"
  }
 },
 "nbformat": 4,
 "nbformat_minor": 2
}
